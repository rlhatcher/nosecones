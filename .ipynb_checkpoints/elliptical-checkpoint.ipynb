{
 "cells": [
  {
   "cell_type": "code",
   "execution_count": 1,
   "metadata": {},
   "outputs": [],
   "source": [
    "# nbi:hide_in\n",
    "from matplotlib import pyplot as plt\n",
    "import numpy as np\n",
    "from matplotlib.collections import LineCollection\n",
    "\n",
    "import viewscad\n",
    "from solid import *\n",
    "\n",
    "# Jupyter Specifics\n",
    "import matplotlib as mpl\n",
    "from IPython.display import HTML\n",
    "from ipywidgets.widgets import interact, Output, FloatSlider, FloatText, Button, VBox\n",
    "\n",
    "radO = 0.0\n",
    "radI = 0.0\n",
    "lenN = 0.0\n",
    "lenS = 0.0"
   ]
  },
  {
   "cell_type": "markdown",
   "metadata": {},
   "source": [
    "# Elliptical\n",
    "\n",
    "This shape is popular in subsonic flight (such as model rocketry) due to the blunt nose and tangent base and are generally considered superior for model rocketry altitude optimisation use. This is not a shape normally found in professional rocketry, which almost always flies at much higher velocities where other designs are more suitable.\n",
    "\n",
    "The profile is defined as $y=R{\\sqrt  {1-{x^{2} \\over L^{2}}}}$ \n",
    "If $R = L$, this is a hemisphere.\n",
    "\n",
    "| Description | Variable | Formula |\n",
    "| -- | -- | -- |\n",
    "| Outside radius | oRadius | $R$ |\n",
    "| Inside radius | iRadius | n/a |\n",
    "| Nosecone length | nLength | $L$ |\n",
    "| Shoulder Length | sLength | n/a |"
   ]
  },
  {
   "cell_type": "code",
   "execution_count": 5,
   "metadata": {},
   "outputs": [
    {
     "data": {
      "application/vnd.jupyter.widget-view+json": {
       "model_id": "9fe8f08a4a4b421ca98e762c0accf8e1",
       "version_major": 2,
       "version_minor": 0
      },
      "text/plain": [
       "interactive(children=(FloatText(value=24.79, description='oRadius'), FloatText(value=24.13, description='iRadi…"
      ]
     },
     "metadata": {},
     "output_type": "display_data"
    },
    {
     "data": {
      "application/vnd.jupyter.widget-view+json": {
       "model_id": "8fed3ee9b53c41aa871c8d8966f2e803",
       "version_major": 2,
       "version_minor": 0
      },
      "text/plain": [
       "VBox(children=(Button(description='Render STL', style=ButtonStyle()), Output()))"
      ]
     },
     "metadata": {},
     "output_type": "display_data"
    }
   ],
   "source": [
    "# nbi:hide_in\n",
    "r = viewscad.Renderer()\n",
    "p = cylinder(r=5, h=2)\n",
    "\n",
    "def plot_elliptical(oRadius, iRadius, nLength, sLength):\n",
    "\n",
    "    fig, axe = plt.subplots(figsize=(6, 2))\n",
    "    axe.set_aspect(\"equal\")\n",
    "\n",
    "    x = np.linspace(0, int(nLength), int(nLength*5))\n",
    "\n",
    "    [line.remove() for line in axe.lines]\n",
    " \n",
    "    axe.plot(x, oRadius * np.sqrt(1-(x**2/nLength**2)), color='C0')\n",
    "    axe.plot([nLength, -sLength, -sLength, 0, 0], [0, 0, iRadius, iRadius, oRadius], color='C0')\n",
    "    zero = np.array([0])\n",
    "    \n",
    "    x = np.linspace(0, int(nLength), int(nLength*5))\n",
    "    \n",
    "    f = lambda x: oRadius * np.sqrt(1-(x**2/nLength**2))\n",
    "    y = f(x)\n",
    "    \n",
    "    xplt = np.concatenate((zero, x, zero))\n",
    "    yplt = np.concatenate((zero, y, zero))\n",
    "    \n",
    "    global p\n",
    "    p = rotate_extrude(360, segments=50)(polygon(np.vstack((yplt, xplt)).T))\n",
    "    if sLength != 0:\n",
    "        p += translate([0, 0, -sLength])(cylinder(r=iRadius, h=sLength, segments=50))\n",
    "\n",
    "interact(plot_elliptical,\n",
    "        oRadius=FloatText(value=24.79), \n",
    "        iRadius=FloatText(value=24.13),\n",
    "        nLength=FloatText(value=90), \n",
    "        sLength=FloatText(value=10)\n",
    ");\n",
    "\n",
    "def render_stl(p):\n",
    "    r.render(p, outfile='elliptical.stl')\n",
    "\n",
    "button = Button(description='Render STL')\n",
    "out = Output()\n",
    "def on_button_clicked(_):\n",
    "    # what happens when we press the button\n",
    "    with out:\n",
    "        out.clear_output()\n",
    "        render_stl(p)\n",
    "# linking button and function together using a button's method\n",
    "button.on_click(on_button_clicked)\n",
    "VBox([button,out])"
   ]
  },
  {
   "cell_type": "code",
   "execution_count": null,
   "metadata": {},
   "outputs": [],
   "source": [
    "def stl_elliptical(oRadius, iRadius, nLength, sLength):\n",
    "\n",
    "    zero = np.array([0])\n",
    "    \n",
    "    x = np.linspace(0, int(nLength), int(nLength*5))\n",
    "    \n",
    "    f = lambda x: oRadius * np.sqrt(1-(x**2/nLength**2))\n",
    "    y = f(x)\n",
    "    \n",
    "    xplt = np.concatenate((zero, x, zero))\n",
    "    yplt = np.concatenate((zero, y, zero))\n",
    "    \n",
    "    r = viewscad.Renderer()\n",
    "    p = rotate_extrude(360, segments=100)(polygon(np.vstack((yplt, xplt)).T))\n",
    "    if sLength != 0:\n",
    "        p += translate([0, 0, -sLength])(cylinder(r=iRadius, h=sLength, segments=100))\n",
    "        \n",
    "    r.render(p, outfile='elliptical.stl')\n",
    "\n",
    "button = Button(description='Render STL')\n",
    "out = Output()\n",
    "print(radO)\n",
    "def on_button_clicked(_):\n",
    "    # what happens when we press the button\n",
    "    with out:\n",
    "        stl_elliptical(radO, radI, lenN, lenS)\n",
    "# linking button and function together using a button's method\n",
    "button.on_click(on_button_clicked)\n",
    "VBox([button,out])"
   ]
  },
  {
   "cell_type": "markdown",
   "metadata": {},
   "source": [
    "# Parabolic\n",
    "\n",
    "This nose shape is not the blunt shape that is envisioned when people commonly refer to a \"parabolic\" nose cone. The parabolic series nose shape is generated by rotating a segment of a parabola around a line parallel to its latus rectum. This construction is similar to that of the tangent ogive, except that a parabola is the defining shape rather than a circle. Just as it does on an ogive, this construction produces a nose shape with a sharp tip. For the blunt shape typically associated with a parabolic nose, see power series below. (The parabolic shape is also often confused with the elliptical shape.)\n",
    "\n",
    "For $0 \\leq K^\\prime \\leq 1 :  y=R \\Biggl({2({x \\over L})-K^\\prime({x \\over L})^{2} \\over 2-K^\\prime}\\Biggr)$\n",
    "\n",
    "$K^\\prime$ can vary anywhere between $0$ and $1$, but the most common values used for nose cone shapes are:\n",
    "\n",
    "| Parabola Type | $K^\\prime$ Value |\n",
    "| --- | --- |\n",
    "| Cone | $0$ |\n",
    "| Half | $\\frac {1}{2}$ |\n",
    "| Three Quarter| $3 \\over 4$ |\n",
    "| Full | $1$ |\n",
    "\n",
    "For the case of the full parabola $(K^\\prime = 1)$ the shape is tangent to the body at its base, and the base is on the axis of the parabola. Values of $K^\\prime \\lt 1$ result in a slimmer shape, whose appearance is similar to that of the secant ogive. The shape is no longer tangent at the base, and the base is parallel to, but offset from, the axis of the parabola."
   ]
  },
  {
   "cell_type": "code",
   "execution_count": null,
   "metadata": {},
   "outputs": [],
   "source": [
    "# nbi:hide_in\n",
    "def plot_parabolic(oRadius, iRadius, nLength, sLength, K):\n",
    "    fig, axp = plt.subplots(figsize=(6, 2))\n",
    "    axp.set_aspect(\"equal\")\n",
    "\n",
    "    x = np.linspace(0, int(nLength))\n",
    "\n",
    "    [line.remove() for line in axp.lines]\n",
    "    \n",
    "    axp.plot(x, oRadius*(((2*(x/nLength))-(K*(x/nLength)**2))/(2-K)), color='C0')\n",
    "    axp.plot([0, sLength + nLength, sLength + nLength, nLength, nLength], [0, 0, iRadius, iRadius, oRadius], color='C0')\n",
    "\n",
    "interact(plot_parabolic,\n",
    "        oRadius=FloatText(value=24.79), \n",
    "        iRadius=FloatText(value=24.13),\n",
    "        nLength=FloatText(value=90), \n",
    "        sLength=FloatText(value=10),\n",
    "        K=FloatSlider(min=0, max=1, step=0.05, value=.75)\n",
    ");   "
   ]
  },
  {
   "cell_type": "markdown",
   "metadata": {},
   "source": [
    "# Haack series\n",
    "\n",
    "Unlike all of the nose cone shapes above, the Haack Series shapes are not constructed from geometric figures. The shapes are instead mathematically derived for the purpose of minimizing drag. While the series is a continuous set of shapes determined by the value of $C$ in the equations below, two values of $C$ have particular significance: when $C = 0$, the notation $LD$ signifies minimum drag for the given length and diameter, and when $C = {1 \\over 3}$, $LV$ indicates minimum drag for a given length and volume. The Haack series nose cones are not perfectly tangent to the body at their base except for the case where $C = {2 \\over 3}$. However, the discontinuity is usually so slight as to be imperceptible. For $C > {2 \\over 3}$, Haack nose cones bulge to a maximum diameter greater than the base diameter. Haack nose tips do not come to a sharp point, but are slightly rounded.\n",
    "\n",
    "$\\theta = \\arccos \\Bigl(1 - {2X \\over L}\\Bigr)$\n",
    "\n",
    "$y = {R \\over \\sqrt{\\pi}} \\sqrt{\\theta-{\\sin({2\\theta})\\over2}+C \\sin^3({\\theta})}$\n",
    "\n",
    "Where:\n",
    "\n",
    "$C = {1 \\over 3}$ for LV-Haack \n",
    "\n",
    "$C = 0$ for LD-Haack"
   ]
  },
  {
   "cell_type": "code",
   "execution_count": null,
   "metadata": {},
   "outputs": [],
   "source": [
    "# nbi:hide_in\n",
    "def plot_haack(oRadius, iRadius, nLength, sLength, C):\n",
    "    fig, axh = plt.subplots(figsize=(6, 2))\n",
    "    axh.set_aspect(\"equal\")\n",
    "\n",
    "    x = np.linspace(0, int(nLength))\n",
    "\n",
    "    [line.remove() for line in axh.lines]\n",
    "    \n",
    "    axh.plot(x, (oRadius/np.sqrt(np.pi))*np.sqrt((np.arccos(1 - (2*x)/nLength)) - (np.sin(2 * (np.arccos(1 - (2*x)/nLength))))/2 + C * np.sin((np.arccos(1 - (2*x)/nLength)))**3), color='C0')\n",
    "    axh.plot([0, sLength + nLength, sLength + nLength, nLength, nLength], [0, 0, iRadius, iRadius, oRadius], color='C0')\n",
    "\n",
    "interact(plot_haack,\n",
    "        oRadius=FloatText(value=24.79), \n",
    "        iRadius=FloatText(value=24.13),\n",
    "        nLength=FloatText(value=90), \n",
    "        sLength=FloatText(value=10),\n",
    "        C=FloatSlider(min=0, max=1, step=0.01, value=.33)\n",
    ");   "
   ]
  },
  {
   "cell_type": "code",
   "execution_count": null,
   "metadata": {},
   "outputs": [],
   "source": []
  }
 ],
 "metadata": {
  "kernelspec": {
   "display_name": "Python 3",
   "language": "python",
   "name": "python3"
  },
  "language_info": {
   "codemirror_mode": {
    "name": "ipython",
    "version": 3
   },
   "file_extension": ".py",
   "mimetype": "text/x-python",
   "name": "python",
   "nbconvert_exporter": "python",
   "pygments_lexer": "ipython3",
   "version": "3.8.6"
  }
 },
 "nbformat": 4,
 "nbformat_minor": 4
}
