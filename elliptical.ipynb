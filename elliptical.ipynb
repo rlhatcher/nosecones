{
 "cells": [
  {
   "cell_type": "code",
   "execution_count": null,
   "metadata": {},
   "outputs": [],
   "source": [
    "# nbi:hide_in\n",
    "from matplotlib import pyplot as plt\n",
    "import numpy as np\n",
    "import viewscad\n",
    "from solid import *\n",
    "\n",
    "# Jupyter Specifics\n",
    "import matplotlib as mpl\n",
    "from IPython.display import HTML\n",
    "from ipywidgets.widgets import interact, IntSlider, FloatSlider, FloatText, Layout"
   ]
  },
  {
   "cell_type": "code",
   "execution_count": null,
   "metadata": {},
   "outputs": [],
   "source": [
    "# nbi:hide_in\n",
    "\n",
    "def plot_elliptical(ro, ri, l, s):\n",
    "    fig, axe = plt.subplots(figsize=(6, 2), num=\"Elliptical\")\n",
    "    axe.set_aspect(\"equal\")\n",
    "\n",
    "    x = np.linspace(0, int(l), int(l*5))\n",
    "\n",
    "    [line.remove() for line in axe.lines]\n",
    " \n",
    "    axe.plot(x, ro * np.sqrt(1-(x**2/l**2)), color='C0')\n",
    "    axe.plot([l, -s, -s, 0, 0], [0, 0, ri, ri, ro], color='C0')\n",
    "\n",
    "interact(plot_elliptical,\n",
    "        ro=FloatText(value=6), \n",
    "        ri=FloatText(value=5),\n",
    "        l=FloatText(value=30), \n",
    "        s=FloatText(value=10)\n",
    ");   "
   ]
  },
  {
   "cell_type": "code",
   "execution_count": null,
   "metadata": {},
   "outputs": [],
   "source": []
  }
 ],
 "metadata": {
  "kernelspec": {
   "display_name": "Python 3",
   "language": "python",
   "name": "python3"
  },
  "language_info": {
   "codemirror_mode": {
    "name": "ipython",
    "version": 3
   },
   "file_extension": ".py",
   "mimetype": "text/x-python",
   "name": "python",
   "nbconvert_exporter": "python",
   "pygments_lexer": "ipython3",
   "version": "3.8.5"
  }
 },
 "nbformat": 4,
 "nbformat_minor": 4
}
