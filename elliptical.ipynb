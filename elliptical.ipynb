{
 "cells": [
  {
   "cell_type": "code",
   "execution_count": 9,
   "metadata": {},
   "outputs": [],
   "source": [
    "# nbi:hide_in\n",
    "from matplotlib import pyplot as plt\n",
    "import numpy as np\n",
    "from matplotlib.collections import LineCollection\n",
    "\n",
    "# import viewscad\n",
    "# from solid import *\n",
    "\n",
    "# Jupyter Specifics\n",
    "import matplotlib as mpl\n",
    "from IPython.display import HTML\n",
    "from ipywidgets.widgets import interact, IntSlider, FloatSlider, FloatText, Layout"
   ]
  },
  {
   "cell_type": "code",
   "execution_count": 10,
   "metadata": {},
   "outputs": [
    {
     "data": {
      "application/vnd.jupyter.widget-view+json": {
       "model_id": "37d3e3c81f3b42939394990debf6d17d",
       "version_major": 2,
       "version_minor": 0
      },
      "text/plain": [
       "interactive(children=(FloatText(value=6.0, description='ro'), FloatText(value=5.0, description='ri'), FloatTex…"
      ]
     },
     "metadata": {},
     "output_type": "display_data"
    }
   ],
   "source": [
    "def plot_elliptical(ro, ri, l, s):\n",
    "    fig, axe = plt.subplots(figsize=(6, 2), num=\"Elliptical\")\n",
    "    axe.set_aspect(\"equal\")\n",
    "\n",
    "    x = np.linspace(0, int(l), int(l*5))\n",
    "\n",
    "    [line.remove() for line in axe.lines]\n",
    " \n",
    "    axe.plot(x, ro * np.sqrt(1-(x**2/l**2)), color='C0')\n",
    "    axe.plot([l, -s, -s, 0, 0], [0, 0, ri, ri, ro], color='C0')\n",
    "\n",
    "interact(plot_elliptical,\n",
    "        ro=FloatText(value=6), \n",
    "        ri=FloatText(value=5),\n",
    "        l=FloatText(value=30), \n",
    "        s=FloatText(value=10)\n",
    ");   "
   ]
  },
  {
   "cell_type": "code",
   "execution_count": 11,
   "metadata": {},
   "outputs": [
    {
     "name": "stdout",
     "output_type": "stream",
     "text": [
      "Try these Factors with different number of points: 21 29 33 34 49 51 66 67 73 76 79 80 86 91 99\n"
     ]
    },
    {
     "data": {
      "application/vnd.jupyter.widget-view+json": {
       "model_id": "f071157018ad4ba3a7406a769261497a",
       "version_major": 2,
       "version_minor": 0
      },
      "text/plain": [
       "interactive(children=(FloatSlider(value=2.0, description='Factor', layout=Layout(width='99%')), IntSlider(valu…"
      ]
     },
     "metadata": {},
     "output_type": "display_data"
    }
   ],
   "source": [
    "def points_arround_circle(number=100, center=(0,0), radius=1):\n",
    "    theta = np.linspace(0, 2 * np.pi - (2 * np.pi / number), number)\n",
    "    x = radius * np.cos(theta)\n",
    "    y = radius * np.sin(theta)\n",
    "    return (x, y)\n",
    "\n",
    "def get_lines_from_points(x, y, factor, animated=None):\n",
    "    limit = len(x)\n",
    "    if animated is not None:\n",
    "        for i in range(limit):\n",
    "            x_range = (x[i], x[int(i * factor) % limit])\n",
    "            y_range = (y[i], y[int(i * factor) % limit])\n",
    "            yield mlines.Line2D(x_range, y_range)\n",
    "    else:\n",
    "        for i in range(limit):\n",
    "            start = (x[i], y[i])\n",
    "            index = int((i * factor) % limit)\n",
    "            end = (x[index], y[index])          \n",
    "            yield end, start\n",
    "\n",
    "def plot_circle_points(x, y, ax, labels=None):\n",
    "    ax.annotate(\"Points: {}\".format(len(x)), (0.8, 0.9))\n",
    "    ax.plot(x, y, \"-ko\", markevery=1)\n",
    "    if not labels is None:\n",
    "        for i, (x, y) in enumerate(zip(x, y)):\n",
    "            ax.annotate(i, (x, y))\n",
    "\n",
    "def plot_lines(x, y, factor, ax, color=None):\n",
    "    ax.annotate(\"Factor: {}\".format(factor), (0.8, 1))\n",
    "    lines = list(get_lines_from_points(x, y, factor))\n",
    "    if color is None:\n",
    "        line_segments = LineCollection(lines)\n",
    "    else:\n",
    "        line_segments = LineCollection(lines, colors=colorsys.hsv_to_rgb(color, 1.0, 0.8))\n",
    "            \n",
    "    ax.add_collection(line_segments)\n",
    "    \n",
    "def plot_parametric(Factor=2, Points=100):\n",
    "    plt.figure(figsize=(10, 10))\n",
    "    ax = plt.subplot()\n",
    "    plt.axis('off')\n",
    "    x, y = points_arround_circle(number=Points)\n",
    "    plot_circle_points(x, y, ax)\n",
    "    plot_lines(x,y,Factor, ax)\n",
    "    plt.show()\n",
    "\n",
    "factors = [21, 29, 33, 34, 49, 51, 66, 67, 73, 76, 79, 80, 86, 91, 99]\n",
    "print(\"Try these Factors with different number of points:\", *factors)    \n",
    "\n",
    "interact(plot_parametric, \n",
    "         Factor=FloatSlider(min=0,max=100,step=0.1,value=2, layout=Layout(width='99%')), \n",
    "         Points=IntSlider(min=0,max=300,step=25,value=100, layout=Layout(width='99%')));"
   ]
  },
  {
   "cell_type": "code",
   "execution_count": null,
   "metadata": {},
   "outputs": [],
   "source": []
  }
 ],
 "metadata": {
  "kernelspec": {
   "display_name": "Python 3",
   "language": "python",
   "name": "python3"
  },
  "language_info": {
   "codemirror_mode": {
    "name": "ipython",
    "version": 3
   },
   "file_extension": ".py",
   "mimetype": "text/x-python",
   "name": "python",
   "nbconvert_exporter": "python",
   "pygments_lexer": "ipython3",
   "version": "3.8.5"
  }
 },
 "nbformat": 4,
 "nbformat_minor": 4
}
